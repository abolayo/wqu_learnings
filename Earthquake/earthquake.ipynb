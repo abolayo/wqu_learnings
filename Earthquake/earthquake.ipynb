{
 "cells": [
  {
   "cell_type": "code",
   "execution_count": null,
   "id": "a8fa6f68",
   "metadata": {},
   "outputs": [],
   "source": [
    "import warnings\n",
    "warnings.simplefilter(action=\"ignore\", category=FutureWarning)\n"
   ]
  },
  {
   "cell_type": "code",
   "execution_count": null,
   "id": "1a630f41",
   "metadata": {},
   "outputs": [],
   "source": [
    "# Import libraries here\n",
    "import sqlite3\n",
    "import warnings\n",
    "\n",
    "import matplotlib.pyplot as plt\n",
    "import numpy as np\n",
    "import pandas as pd\n",
    "import seaborn as sns\n",
    "#from category_encoders import OneHotEncoder,OrdinalEncoder\n",
    "from sklearn.preprocessing import OneHotEncoder\n",
    "from sklearn.linear_model import LogisticRegression\n",
    "from sklearn.metrics import accuracy_score\n",
    "from sklearn.model_selection import train_test_split\n",
    "from sklearn.pipeline import Pipeline, make_pipeline\n",
    "from sklearn.utils.validation import check_is_fitted\n",
    "from sklearn.tree import DecisionTreeClassifier, plot_tree\n",
    "\n",
    "warnings.simplefilter(action=\"ignore\", category=FutureWarning)"
   ]
  },
  {
   "cell_type": "code",
   "execution_count": null,
   "id": "02660922",
   "metadata": {},
   "outputs": [],
   "source": [
    "#to connect to sqlite db\n",
    "%load_ext sql\n",
    "%sql sqlite:////home/jovyan/nepal.sqlite"
   ]
  },
  {
   "cell_type": "code",
   "execution_count": null,
   "id": "04e249e5",
   "metadata": {},
   "outputs": [],
   "source": [
    "%%sql\n",
    "\n",
    "select distinct(district_id) from id_map"
   ]
  },
  {
   "cell_type": "code",
   "execution_count": null,
   "id": "64a6f4f2",
   "metadata": {},
   "outputs": [],
   "source": [
    "%%sql\n",
    "select count(*) from id_map where district_id = 1\n"
   ]
  },
  {
   "cell_type": "code",
   "execution_count": null,
   "id": "fd65ef7d",
   "metadata": {},
   "outputs": [],
   "source": [
    "%%sql\n",
    "select distinct(i.building_id) as b_id,b.*,bd.damage_grade \n",
    "from id_map as i\n",
    "join building_structure as b\n",
    "on b.building_id = i.building_id\n",
    "join building_damage as bd\n",
    "on bd.building_id = b.building_id\n",
    "where district_id = 3\n",
    "LIMIT 5"
   ]
  },
  {
   "cell_type": "code",
   "execution_count": null,
   "id": "e8d5d1b5",
   "metadata": {},
   "outputs": [],
   "source": [
    "# Build your `wrangle` function here\n",
    "def wrangle(db_path):\n",
    "    #connect database\n",
    "    conn = sqlite3.connect(db_path)\n",
    "    query = \"\"\"\n",
    "            select distinct(i.building_id) as b_id,b.*,bd.damage_grade \n",
    "            from id_map as i\n",
    "            join building_structure as b\n",
    "            on b.building_id = i.building_id\n",
    "            join building_damage as bd\n",
    "            on bd.building_id = b.building_id\n",
    "            where district_id = 3\n",
    "    \"\"\"\n",
    "    #read query result to dataframe\n",
    "    df = pd.read_sql(query,conn,index_col=\"b_id\")\n",
    "    \n",
    "    #caste severe_damage feature\n",
    "    df[\"severe_damage\"] = df[\"damage_grade\"].str[-1].astype(int)\n",
    "    df[\"severe_damage\"] = df[\"severe_damage\"].apply(lambda c: 1 if c >3 else 0)\n",
    "    #multicollinerity columns\n",
    "    \n",
    "    \n",
    "    #drop leaky columns\n",
    "    leaky_col = [col for col in df.columns if \"_post_eq\" in col]\n",
    "    leaky_col.append(\"count_floors_pre_eq\")\n",
    "    df.drop(columns=leaky_col,inplace=True)\n",
    "    df.drop(columns=\"damage_grade\",inplace=True)\n",
    "    df.drop(columns=\"building_id\",inplace=True)\n",
    "    return df"
   ]
  },
  {
   "cell_type": "code",
   "execution_count": null,
   "id": "e37b5794",
   "metadata": {},
   "outputs": [],
   "source": [
    "df = wrangle(\"/home/jovyan/nepal.sqlite\")\n",
    "df.head()"
   ]
  },
  {
   "cell_type": "code",
   "execution_count": null,
   "id": "3f399157",
   "metadata": {},
   "outputs": [],
   "source": [
    "df.nunique().sort_values()"
   ]
  },
  {
   "cell_type": "code",
   "execution_count": null,
   "id": "6ac551ad",
   "metadata": {},
   "outputs": [],
   "source": [
    "# Plot value counts of `\"severe_damage\"`\n",
    "df[\"severe_damage\"].value_counts(normalize=True).plot(kind=\"bar\")\n",
    "plt.xlabel(\"Severe Damage\")\n",
    "plt.ylabel(\"Relative Frequency\")\n",
    "plt.title(\"Kavrepalanchok, Class Balance\")"
   ]
  },
  {
   "cell_type": "code",
   "execution_count": null,
   "id": "6a3e48da",
   "metadata": {},
   "outputs": [],
   "source": [
    "sns.boxplot(x=\"severe_damage\",y=\"plinth_area_sq_ft\",data=df)\n",
    "plt.xlabel(\"Severe Damage\")\n",
    "plt.ylabel(\"Plinth Area [sq. ft.]\")\n",
    "plt.title(\"Kavrepalanchok, Plinth Area vs Building Damage\")"
   ]
  },
  {
   "cell_type": "code",
   "execution_count": null,
   "id": "317be1e6",
   "metadata": {},
   "outputs": [],
   "source": [
    "roof_pivot =pd.pivot_table(df,index=\"roof_type\",values=\"severe_damage\",aggfunc=np.mean).sort_values(by=\"severe_damage\")\n",
    "roof_pivot"
   ]
  },
  {
   "cell_type": "code",
   "execution_count": null,
   "id": "91ffb74a",
   "metadata": {},
   "outputs": [],
   "source": [
    "target = \"severe_damage\"\n",
    "X = df.drop(columns=target)\n",
    "y = df[target]\n",
    "print(\"X shape:\", X.shape)\n",
    "print(\"y shape:\", y.shape)"
   ]
  },
  {
   "cell_type": "code",
   "execution_count": null,
   "id": "1a229c2b",
   "metadata": {},
   "outputs": [],
   "source": [
    "X_train, X_val, y_train, y_val = train_test_split(X,y,test_size=0.2,random_state=42)\n",
    "print(\"X_train shape:\", X_train.shape)\n",
    "print(\"y_train shape:\", y_train.shape)\n",
    "print(\"X_val shape:\", X_val.shape)\n",
    "print(\"y_val shape:\", y_val.shape)"
   ]
  },
  {
   "cell_type": "code",
   "execution_count": null,
   "id": "32cae4a6",
   "metadata": {},
   "outputs": [],
   "source": [
    "acc_baseline = df[\"severe_damage\"].value_counts(normalize=True).max()\n",
    "print(\"Baseline Accuracy:\", round(acc_baseline, 2))"
   ]
  },
  {
   "cell_type": "code",
   "execution_count": null,
   "id": "d3a7a9e4",
   "metadata": {},
   "outputs": [],
   "source": [
    "model_lr = make_pipeline(OneHotEncoder(),LogisticRegression(random_state=42))\n",
    "model_lr.fit(X_train,y_train)\n"
   ]
  },
  {
   "cell_type": "code",
   "execution_count": null,
   "id": "153ecb52",
   "metadata": {},
   "outputs": [],
   "source": [
    "lr_train_acc = model_lr.score(X_train,y_train)\n",
    "lr_val_acc = model_lr.score(X_val,y_val)\n",
    "\n",
    "print(\"Logistic Regression, Training Accuracy Score:\", lr_train_acc)\n",
    "print(\"Logistic Regression, Validation Accuracy Score:\", lr_val_acc)"
   ]
  },
  {
   "cell_type": "code",
   "execution_count": null,
   "id": "34ce3ab1",
   "metadata": {},
   "outputs": [],
   "source": [
    "depth_hyperparams = range(1, 16)\n",
    "training_acc = []\n",
    "validation_acc = []\n",
    "for d in depth_hyperparams:\n",
    "    model_dt =make_pipeline(OrdinalEncoder(),DecisionTreeClassifier(max_depth=d,random_state=42))\n",
    "    model_dt.fit(X_train, y_train)\n",
    "    t_acc = model_dt.score(X_train, y_train)\n",
    "    v_acc = model_dt.score(X_val,y_val)\n",
    "    training_acc.append(t_acc)\n",
    "    validation_acc.append(v_acc)\n",
    "print(\"Training Accuracy Scores:\", training_acc)\n",
    "print(\"Validation Accuracy Scores:\", validation_acc)"
   ]
  },
  {
   "cell_type": "code",
   "execution_count": null,
   "id": "55bb5883",
   "metadata": {},
   "outputs": [],
   "source": [
    "pd.Series(training_acc).plot(color=\"red\",label=\"training\")\n",
    "pd.Series(validation_acc).plot(color=\"blue\",label=\"validation\")\n",
    "plt.xlabel(\"Max Depth\")\n",
    "plt.ylabel(\"Accuracy Score\")\n",
    "plt.title(\"Validation Curve, Decision Tree Model\")\n",
    "plt.legend()\n"
   ]
  },
  {
   "cell_type": "code",
   "execution_count": null,
   "id": "7e631065",
   "metadata": {},
   "outputs": [],
   "source": [
    "final_model_dt =make_pipeline(OrdinalEncoder(),DecisionTreeClassifier(max_depth=10,random_state=42))\n",
    "final_model_dt.fit(X_train, y_train)\n",
    "final_training_acc = final_model_dt.score(X_train, y_train)\n",
    "final_validation_acc = final_model_dt.score(X_val,y_val)\n",
    "print(\"Training Accuracy Score:\", final_training_acc)\n",
    "print(\"Validation Accuracy Score:\", final_validation_acc)"
   ]
  },
  {
   "cell_type": "code",
   "execution_count": null,
   "id": "8da254fe",
   "metadata": {},
   "outputs": [],
   "source": [
    "X_test = pd.read_csv(\"data/kavrepalanchok-test-features.csv\", index_col=\"b_id\")\n",
    "y_test_pred = final_model_dt.predict(X_test)\n",
    "y_test_pred[:5]"
   ]
  },
  {
   "cell_type": "code",
   "execution_count": null,
   "id": "3ca38ee2",
   "metadata": {},
   "outputs": [],
   "source": [
    "features = X_train.columns\n",
    "importance=final_model_dt.named_steps[\"decisiontreeclassifier\"].feature_importances_\n",
    "feat_imp = pd.Series(importance,index=features).sort_values()\n",
    "feat_imp.head()"
   ]
  },
  {
   "cell_type": "code",
   "execution_count": null,
   "id": "50928a97",
   "metadata": {},
   "outputs": [],
   "source": [
    "feat_imp.plot(kind=\"barh\")\n",
    "plt.xlabel(\"Gini Importance\")\n",
    "plt.ylabel(\"Label\")\n",
    "plt.title(\"Kavrepalanchok Decision Tree, Feature Importance\")"
   ]
  },
  {
   "cell_type": "code",
   "execution_count": null,
   "id": "bc8556d1",
   "metadata": {},
   "outputs": [],
   "source": []
  }
 ],
 "metadata": {
  "kernelspec": {
   "display_name": "Python 3 (ipykernel)",
   "language": "python",
   "name": "python3"
  },
  "language_info": {
   "codemirror_mode": {
    "name": "ipython",
    "version": 3
   },
   "file_extension": ".py",
   "mimetype": "text/x-python",
   "name": "python",
   "nbconvert_exporter": "python",
   "pygments_lexer": "ipython3",
   "version": "3.10.9"
  }
 },
 "nbformat": 4,
 "nbformat_minor": 5
}
