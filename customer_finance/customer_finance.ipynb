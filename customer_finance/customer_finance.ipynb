{
 "cells": [
  {
   "cell_type": "raw",
   "id": "7d3a3977",
   "metadata": {},
   "source": [
    "0In this assignment, you're going to focus on business owners in the United States. You'll start by examining some demographic characteristics of the group, such as age, income category, and debt vs home value. Then you'll select high-variance features, and create a clustering model to divide small business owners into subgroups. Finally, you'll create some visualizations to highlight the differences between these subgroups. Good luck! 🍀"
   ]
  },
  {
   "cell_type": "code",
   "execution_count": null,
   "id": "47f70ce8",
   "metadata": {},
   "outputs": [],
   "source": [
    "# Import libraries here\n",
    "import pandas as pd\n",
    "import plotly.express as px\n",
    "import seaborn as sns\n",
    "import matplotlib.pyplot as plt\n",
    "\n",
    "from scipy.stats.mstats import trimmed_var\n",
    "from sklearn.cluster import KMeans\n",
    "from sklearn.decomposition import PCA\n",
    "from sklearn.metrics import silhouette_score\n",
    "from sklearn.pipeline import make_pipeline\n",
    "from sklearn.preprocessing import StandardScaler"
   ]
  },
  {
   "cell_type": "code",
   "execution_count": null,
   "id": "50f5d31f",
   "metadata": {},
   "outputs": [],
   "source": [
    "df = pd.read_csv(\"data/SCFP2019.csv.gz\")\n",
    "print(\"df shape:\", df.shape)\n",
    "df.head()"
   ]
  },
  {
   "cell_type": "code",
   "execution_count": null,
   "id": "83000b47",
   "metadata": {},
   "outputs": [],
   "source": [
    "prop_biz_owners = df[\"HBUS\"].value_counts(normalize=True)[1]\n",
    "prop_biz_owners"
   ]
  },
  {
   "cell_type": "code",
   "execution_count": null,
   "id": "a1bf578e",
   "metadata": {},
   "outputs": [],
   "source": [
    "prop_biz_owners = df[\"HBUS\"].value_counts(normalize=True)[1]\n",
    "print(\"proportion of business owners in df:\", prop_biz_owners)"
   ]
  },
  {
   "cell_type": "code",
   "execution_count": null,
   "id": "f7e48974",
   "metadata": {},
   "outputs": [],
   "source": [
    "inccat_dict = {\n",
    "    1: \"0-20\",\n",
    "    2: \"21-39.9\",\n",
    "    3: \"40-59.9\",\n",
    "    4: \"60-79.9\",\n",
    "    5: \"80-89.9\",\n",
    "    6: \"90-100\",\n",
    "}\n",
    "\n",
    "df_inccat = (\n",
    "    df[\"INCCAT\"].replace(inccat_dict)\n",
    "    .groupby(df[\"HBUS\"])\n",
    "    .value_counts(normalize=True)\n",
    "    .rename(\"frequency\")\n",
    "    .to_frame()\n",
    "    .reset_index()\n",
    ")\n",
    "\n",
    "df_inccat"
   ]
  },
  {
   "cell_type": "code",
   "execution_count": null,
   "id": "dbf32b66",
   "metadata": {},
   "outputs": [],
   "source": [
    "# Create bar chart of `df_inccat`\n",
    "sns.barplot(\n",
    "    x=\"INCCAT\",\n",
    "    y=\"frequency\",\n",
    "    data=df_inccat,\n",
    "    hue=\"HBUS\"\n",
    ")\n",
    "plt.title(\"Income Distribution: Business Owners vs. Non-Business Owners\")\n",
    "plt.xlabel(\"Income Category\")\n",
    "plt.ylabel(\"Frequency (%)\");"
   ]
  },
  {
   "cell_type": "code",
   "execution_count": null,
   "id": "b2709f6a",
   "metadata": {},
   "outputs": [],
   "source": [
    "# Plot \"HOUSES\" vs \"DEBT\" with hue=label\n",
    "sns.scatterplot(\n",
    "    x=\"DEBT\",\n",
    "    y=\"HOUSES\",\n",
    "    data=df,\n",
    "    hue=\"HBUS\"\n",
    ")\n",
    "plt.title(\"Home Value vs. Household Debt\")\n",
    "plt.xlabel(\"Household Debt\")\n",
    "plt.ylabel(\"Home Value\");"
   ]
  },
  {
   "cell_type": "code",
   "execution_count": null,
   "id": "fa94fb2f",
   "metadata": {},
   "outputs": [],
   "source": [
    "mask = (df[\"HBUS\"] ==1) & (df[\"INCOME\"] < 5e5)\n",
    "df_small_biz = df[mask]\n",
    "print(\"df_small_biz shape:\", df_small_biz.shape)\n",
    "df_small_biz.head()"
   ]
  },
  {
   "cell_type": "code",
   "execution_count": null,
   "id": "7afc9a65",
   "metadata": {},
   "outputs": [],
   "source": [
    "df_small_biz[\"AGECL\"].nunique()"
   ]
  },
  {
   "cell_type": "code",
   "execution_count": null,
   "id": "c8303ce2",
   "metadata": {},
   "outputs": [],
   "source": [
    "# Plot histogram of \"AGE\"\n",
    "df_small_biz[\"AGE\"].hist()\n",
    "plt.title(\"Small Business Owners: Age Distribution\")\n",
    "plt.xlabel(\"Age\")\n",
    "plt.ylabel(\"Frequency (count)\");"
   ]
  },
  {
   "cell_type": "code",
   "execution_count": null,
   "id": "ffd02f17",
   "metadata": {},
   "outputs": [],
   "source": [
    "# Calculate variance, get 10 largest features\n",
    "top_ten_var = df_small_biz.var().sort_values().tail(10)\n",
    "top_ten_var"
   ]
  },
  {
   "cell_type": "code",
   "execution_count": null,
   "id": "f634795d",
   "metadata": {},
   "outputs": [],
   "source": [
    "# Calculate trimmed variance\n",
    "top_ten_trim_var = df_small_biz.apply(trimmed_var).sort_values().tail(10)\n",
    "top_ten_trim_var"
   ]
  },
  {
   "cell_type": "code",
   "execution_count": null,
   "id": "dfc1e056",
   "metadata": {},
   "outputs": [],
   "source": [
    "# Create horizontal bar chart of `top_ten_trim_var`\n",
    "fig = px.bar(\n",
    "    top_ten_trim_var,\n",
    "    title=\"Small Business Owners: High Variance Features\",\n",
    "    orientation=\"h\"\n",
    ")\n",
    "fig.update_layout(xaxis_title=\"Trimmed Variance [$]\",yaxis_title=\"Feature\")\n",
    "# Don't delete the code below 👇\n",
    "fig.write_image(\"images/6-5-10.png\", scale=1, height=500, width=700)\n",
    "\n",
    "fig.show()"
   ]
  },
  {
   "cell_type": "code",
   "execution_count": null,
   "id": "b2ce54ee",
   "metadata": {},
   "outputs": [],
   "source": [
    "high_var_cols = df_small_biz.apply(trimmed_var).sort_values().tail(5).index.tolist()\n",
    "high_var_cols"
   ]
  },
  {
   "cell_type": "code",
   "execution_count": null,
   "id": "f6335c64",
   "metadata": {},
   "outputs": [],
   "source": [
    "X = df_small_biz[high_var_cols]\n",
    "print(\"X shape:\", X.shape)"
   ]
  },
  {
   "cell_type": "code",
   "execution_count": null,
   "id": "9eef3b95",
   "metadata": {},
   "outputs": [],
   "source": [
    "n_clusters = range(2,13)\n",
    "inertia_errors = []\n",
    "silhouette_scores = []\n",
    "\n",
    "# Add `for` loop to train model and calculate inertia, silhouette score.\n",
    "for k in n_clusters:\n",
    "    model = make_pipeline(StandardScaler(),KMeans(n_clusters=k,random_state=42))\n",
    "    model.fit(X)\n",
    "    inertia_errors.append(model.named_steps[\"kmeans\"].inertia_)\n",
    "    silhouette_scores.append(silhouette_score(X,model.named_steps[\"kmeans\"].labels_))\n",
    "\n",
    "print(\"Inertia:\", inertia_errors[:11])\n",
    "print()\n",
    "print(\"Silhouette Scores:\", silhouette_scores[:3])"
   ]
  },
  {
   "cell_type": "code",
   "execution_count": null,
   "id": "2e98d665",
   "metadata": {},
   "outputs": [],
   "source": [
    "# Create line plot of `inertia_errors` vs `n_clusters`\n",
    "fig = px.line(\n",
    "    x=n_clusters,\n",
    "    y=inertia_errors,\n",
    "    title = \"K-Means Model: Inertia vs Number of Clusters\"\n",
    ")\n",
    "fig.update_layout(xaxis_title=\"Number of Clusters\",yaxis_title=\"Inertia\")\n",
    "# Don't delete the code below 👇\n",
    "fig.write_image(\"images/6-5-14.png\", scale=1, height=500, width=700)\n",
    "\n",
    "fig.show()"
   ]
  },
  {
   "cell_type": "code",
   "execution_count": null,
   "id": "7ee21740",
   "metadata": {},
   "outputs": [],
   "source": [
    "# Create a line plot of `silhouette_scores` vs `n_clusters`\n",
    "fig = px.line(\n",
    "    x=n_clusters,\n",
    "    y=silhouette_scores,\n",
    "    title = \"K-Means Model:  Silhouette Score vs Number of Clusters\"\n",
    ")\n",
    "fig.update_layout(xaxis_title=\"Number of Clusters\",yaxis_title=\" Silhouette Score\")\n",
    "# Don't delete the code below 👇\n",
    "fig.write_image(\"images/6-5-15.png\", scale=1, height=500, width=700)\n",
    "\n",
    "fig.show()"
   ]
  },
  {
   "cell_type": "code",
   "execution_count": null,
   "id": "520c4a01",
   "metadata": {},
   "outputs": [],
   "source": [
    "final_model = make_pipeline(StandardScaler(),KMeans(n_clusters=3,random_state=42))\n",
    "final_model.fit(X)\n"
   ]
  },
  {
   "cell_type": "code",
   "execution_count": null,
   "id": "9d5a567d",
   "metadata": {},
   "outputs": [],
   "source": [
    "labels = final_model.named_steps[\"kmeans\"].labels_\n",
    "xgb = X.groupby(labels).mean()\n",
    "xgb"
   ]
  },
  {
   "cell_type": "code",
   "execution_count": null,
   "id": "0dda9dcc",
   "metadata": {},
   "outputs": [],
   "source": [
    "# Create side-by-side bar chart of `xgb`\n",
    "fig = px.bar(\n",
    "    xgb,\n",
    "    barmode=\"group\",\n",
    "    title=\"Small Business Owner Finances by Cluster\"    \n",
    ")\n",
    "fig.update_layout(xaxis_title=\"Cluster\",yaxis_title=\"Value [$]\")\n",
    "# Don't delete the code below 👇\n",
    "fig.write_image(\"images/6-5-18.png\", scale=1, height=500, width=700)\n",
    "\n",
    "fig.show()"
   ]
  },
  {
   "cell_type": "code",
   "execution_count": null,
   "id": "a499d419",
   "metadata": {},
   "outputs": [],
   "source": [
    "# Instantiate transformer\n",
    "pca = PCA(n_components=2,random_state=42)\n",
    "\n",
    "# Transform `X`\n",
    "X_t = pca.fit_transform(X)\n",
    "\n",
    "# Put `X_t` into DataFrame\n",
    "X_pca = pd.DataFrame(X_t,columns=[\"PC1\",\"PC2\"])\n",
    "\n",
    "print(\"X_pca shape:\", X_pca.shape)\n",
    "X_pca.head()"
   ]
  },
  {
   "cell_type": "code",
   "execution_count": null,
   "id": "993efbb3",
   "metadata": {},
   "outputs": [],
   "source": [
    "# Create scatter plot of `PC2` vs `PC1`\n",
    "fig = px.scatter(\n",
    "    X_pca,\n",
    "    color=labels.astype(str),\n",
    "    title=\"PCA Representation of Clusters\"    \n",
    ")\n",
    "fig.update_layout(xaxis_title=\"PC1\",yaxis_title=\"PC2\")\n",
    "# Don't delete the code below 👇\n",
    "fig.write_image(\"images/6-5-20.png\", scale=1, height=500, width=700)\n",
    "\n",
    "fig.show()"
   ]
  },
  {
   "cell_type": "code",
   "execution_count": null,
   "id": "fb0aa1b8",
   "metadata": {},
   "outputs": [],
   "source": []
  }
 ],
 "metadata": {
  "kernelspec": {
   "display_name": "Python 3 (ipykernel)",
   "language": "python",
   "name": "python3"
  },
  "language_info": {
   "codemirror_mode": {
    "name": "ipython",
    "version": 3
   },
   "file_extension": ".py",
   "mimetype": "text/x-python",
   "name": "python",
   "nbconvert_exporter": "python",
   "pygments_lexer": "ipython3",
   "version": "3.10.9"
  }
 },
 "nbformat": 4,
 "nbformat_minor": 5
}
