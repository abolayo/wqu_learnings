{
 "cells": [
  {
   "cell_type": "raw",
   "id": "bc7f296a",
   "metadata": {},
   "source": [
    "In this project, you conducted an experiment to help WQU improve enrollment in the Applied Data Science Lab. But let's not forget about our Master of Science in Financial Engineering! For your assignment, you'll help the MScFE conduct a similar experiment. This will be a great opportunity to put your new EDA, ETL, and statistics skills into action.\n",
    "\n",
    "Also, keep in mind that for many of these submissions, you'll be passing in dictionaries that will test different parts of your code."
   ]
  },
  {
   "cell_type": "code",
   "execution_count": 1,
   "id": "e6515763",
   "metadata": {},
   "outputs": [
    {
     "ename": "ModuleNotFoundError",
     "evalue": "No module named 'pymongo'",
     "output_type": "error",
     "traceback": [
      "\u001b[1;31m---------------------------------------------------------------------------\u001b[0m",
      "\u001b[1;31mModuleNotFoundError\u001b[0m                       Traceback (most recent call last)",
      "\u001b[1;32m<ipython-input-1-503ceec83f60>\u001b[0m in \u001b[0;36m<module>\u001b[1;34m\u001b[0m\n\u001b[1;32m----> 1\u001b[1;33m \u001b[1;32mfrom\u001b[0m \u001b[0mpymongo\u001b[0m \u001b[1;32mimport\u001b[0m \u001b[0mMongoClient\u001b[0m\u001b[1;33m\u001b[0m\u001b[1;33m\u001b[0m\u001b[0m\n\u001b[0m\u001b[0;32m      2\u001b[0m \u001b[1;32mfrom\u001b[0m \u001b[0mpymongo\u001b[0m\u001b[1;33m.\u001b[0m\u001b[0mcollection\u001b[0m \u001b[1;32mimport\u001b[0m \u001b[0mCollection\u001b[0m\u001b[1;33m\u001b[0m\u001b[1;33m\u001b[0m\u001b[0m\n\u001b[0;32m      3\u001b[0m \u001b[0mr\u001b[0m \u001b[1;33m=\u001b[0m \u001b[0mReset\u001b[0m\u001b[1;33m(\u001b[0m\u001b[1;33m)\u001b[0m\u001b[1;33m\u001b[0m\u001b[1;33m\u001b[0m\u001b[0m\n\u001b[0;32m      4\u001b[0m \u001b[0mr\u001b[0m\u001b[1;33m.\u001b[0m\u001b[0mreset_database\u001b[0m\u001b[1;33m(\u001b[0m\u001b[1;33m)\u001b[0m\u001b[1;33m\u001b[0m\u001b[1;33m\u001b[0m\u001b[0m\n\u001b[0;32m      5\u001b[0m \u001b[1;33m\u001b[0m\u001b[0m\n",
      "\u001b[1;31mModuleNotFoundError\u001b[0m: No module named 'pymongo'"
     ]
    }
   ],
   "source": [
    "\n",
    "from pymongo import MongoClient\n",
    "from pymongo.collection import Collection\n",
    "r = Reset()\n",
    "r.reset_database()\n",
    "\n",
    "# Import your libraries here\n",
    "import math\n",
    "import random\n",
    "import matplotlib.pyplot as plt\n",
    "import numpy as np\n",
    "import pandas as pd\n",
    "import plotly.express as px\n",
    "import scipy\n",
    "from country_converter import CountryConverter\n",
    "from statsmodels.stats.contingency_tables import Table2x2\n",
    "from statsmodels.stats.power import GofChisquarePower\n"
   ]
  },
  {
   "cell_type": "code",
   "execution_count": null,
   "id": "d1b61d6b",
   "metadata": {},
   "outputs": [],
   "source": [
    "#CONNECT\n",
    "# Create `client`\n",
    "client = MongoClient(host=\"localhost\",port=27017)\n",
    "# Create `db`\n",
    "db = client[\"wqu-abtest\"]\n",
    "# Assign `\"mscfe-applicants\"` collection to `mscfe_app`\n",
    "mscfe_app = db[\"mscfe-applicants\"]"
   ]
  },
  {
   "cell_type": "code",
   "execution_count": null,
   "id": "6f360bb3",
   "metadata": {},
   "outputs": [],
   "source": [
    "mscfe_app.find_one()"
   ]
  },
  {
   "cell_type": "code",
   "execution_count": null,
   "id": "f85b202f",
   "metadata": {},
   "outputs": [],
   "source": [
    "# Aggregate applicants by nationality\n",
    "result = mscfe_app.aggregate(\n",
    "    [\n",
    "        {\"$group\" :\n",
    "             {\n",
    "                 \"_id\": \"$countryISO2\",\n",
    "                 \"count\":{\"$count\":{}}\n",
    "             }\n",
    "        \n",
    "        }\n",
    "    ]\n",
    ")\n",
    "\n",
    "# Load result into DataFrame\n",
    "df_nationality = pd.DataFrame(result).rename({\"_id\":\"country_iso2\"},axis=1)\n",
    "\n",
    "print(\"df_nationality type:\", type(df_nationality))\n",
    "print(\"df_nationality shape\", df_nationality.shape)\n",
    "df_nationality.head()"
   ]
  },
  {
   "cell_type": "code",
   "execution_count": null,
   "id": "5a586e33",
   "metadata": {},
   "outputs": [],
   "source": [
    "# Instantiate `CountryConverter`\n",
    "cc=CountryConverter()\n",
    "\n",
    "# Create `\"country_name\"` column\n",
    "df_nationality[\"country_name\"] = cc.convert(\n",
    "    df_nationality[\"country_iso2\"], to=\"short_name\"\n",
    ")\n",
    "\n",
    "# Create `\"country_iso3\"` column\n",
    "df_nationality[\"country_iso3\"] = cc.convert(\n",
    "    df_nationality[\"country_iso2\"], to=\"ISO3\"\n",
    ")\n",
    "\n",
    "print(\"df_nationality type:\", type(df_nationality))\n",
    "print(\"df_nationality shape\", df_nationality.shape)\n",
    "df_nationality.head()"
   ]
  },
  {
   "cell_type": "code",
   "execution_count": null,
   "id": "9a7000a9",
   "metadata": {},
   "outputs": [],
   "source": [
    "# Create `build_nat_choropleth` function\n",
    "def build_nat_choropleth():\n",
    "    fig=px.choropleth(\n",
    "        data_frame= df_nationality,\n",
    "        locations = \"country_iso3\" ,\n",
    "        color = \"count\",\n",
    "        projection = \"natural earth\",\n",
    "        color_continuous_scale =px.colors.sequential.Oranges,\n",
    "        title = \"MScFE Applicants: Nationalities\"\n",
    "    );\n",
    "    return fig\n",
    "# Don't delete the code below 👇\n",
    "nat_fig = build_nat_choropleth()\n",
    "nat_fig.write_image(\"images/7-5-4.png\", scale=1, height=500, width=700)\n",
    "\n",
    "nat_fig.show()"
   ]
  },
  {
   "cell_type": "markdown",
   "id": "957c750a",
   "metadata": {},
   "source": [
    "# ETL"
   ]
  },
  {
   "cell_type": "code",
   "execution_count": null,
   "id": "4b2e0853",
   "metadata": {},
   "outputs": [],
   "source": [
    "class MongoRepository:\n",
    "    \"\"\"Repository class for interacting with MongoDB database.\n",
    "\n",
    "    Parameters\n",
    "    ----------\n",
    "    client : `pymongo.MongoClient`\n",
    "        By default, `MongoClient(host='localhost', port=27017)`.\n",
    "    db : str\n",
    "        By default, `'wqu-abtest'`.\n",
    "    collection : str\n",
    "        By default, `'mscfe-applicants'`.\n",
    "\n",
    "    Attributes\n",
    "    ----------\n",
    "    collection : pymongo.collection.Collection\n",
    "        All data will be extracted from and loaded to this collection.\n",
    "    \"\"\"\n",
    "\n",
    "    # Task 7.5.5: `__init__` method\n",
    "    def __init__(self):\n",
    "            client= MongoClient(host='localhost', port=27017)\n",
    "            db = \"wqu-abtest\"\n",
    "            collection = \"mscfe-applicants\"\n",
    "            self.collection = client[db][collection]\n",
    "\n",
    "    # Task 7.5.6: `find_by_date` method\n",
    "    def find_by_date(self,date_string):\n",
    "    # Convert `date_string` to datetime object\n",
    "        start = pd.to_datetime(date_string,format=\"%Y-%m-%d\")\n",
    "        # Offset `start` by 1 day\n",
    "        end = start + pd.DateOffset(days=1)\n",
    "        # Create PyMongo query for no-quiz applicants b/t `start` and `end`\n",
    "        query = {\"createdAt\": {\"$gte\": start, \"$lt\": end}, \"admissionsQuiz\": \"incomplete\"}\n",
    "        # Query collection, get result\n",
    "        result = self.collection.find(query)\n",
    "        # Convert `result` to list\n",
    "        observations = list(result)\n",
    "        # REMOVE}\n",
    "        return observations\n",
    "\n",
    "    # Task 7.5.7: `update_applicants` method\n",
    "    def update_applicants(self, documents):\n",
    "        #initiate counters\n",
    "        n = 0\n",
    "        n_Modified =0\n",
    "        #update individuate record iteratively\n",
    "        for doc in documents:\n",
    "                result = self.collection.update_one(\n",
    "                filter={\"_id\":doc[\"_id\"]},\n",
    "                update={\"$set\":doc}\n",
    "                )\n",
    "                n+= result.matched_count\n",
    "                n_Modified += result.modified_count\n",
    "        transaction_result = {\"n\": n, \"nModified\": n_Modified}   \n",
    "        return transaction_result\n",
    "    \n",
    "    # Task 7.5.7: `assign_to_groups` method\n",
    "    def assign_to_groups(self,date_string):\n",
    "        #Get observations\n",
    "        observations = self.find_by_date(date_string)\n",
    "        # Shuffle `observations`\n",
    "        random.seed(42)\n",
    "        random.shuffle(observations)\n",
    "\n",
    "        # Get index position of item at observations halfway point\n",
    "        idx = len(observations)//2\n",
    "\n",
    "        # Assign first half of observations to control group\n",
    "        for doc in observations[:idx]:\n",
    "            doc[\"inExperiment\"] = True\n",
    "            doc[\"group\"] = \"no email (control)\"\n",
    "        # Assign second half of observations to treatment group\n",
    "        for doc in observations[idx:]:\n",
    "            doc[\"inExperiment\"] = True\n",
    "            doc[\"group\"] = \"email (treatment)\"\n",
    "        #update collections\n",
    "        results = self.update_applicants(observations)\n",
    "        return list(results) \n",
    "   \n",
    "    # Task 7.5.14: `find_exp_observations` method\n",
    "    def find_exp_observations(self):\n",
    "        result = self.collection.find({\"inExperiment\": True})\n",
    "        df = list(result)\n",
    "        return df"
   ]
  },
  {
   "cell_type": "code",
   "execution_count": null,
   "id": "b2e49b3a",
   "metadata": {},
   "outputs": [],
   "source": [
    "repo = MongoRepository()\n",
    "print(\"repo type:\", type(repo))\n",
    "repo"
   ]
  },
  {
   "cell_type": "code",
   "execution_count": null,
   "id": "ed4bd1ae",
   "metadata": {},
   "outputs": [],
   "source": [
    "check = repo.find_by_date(\"2022-06-01\")\n",
    "check[:3] "
   ]
  },
  {
   "cell_type": "markdown",
   "id": "c7fa547f",
   "metadata": {},
   "source": [
    "# Perpare Experiment"
   ]
  },
  {
   "cell_type": "code",
   "execution_count": null,
   "id": "c0b54aea",
   "metadata": {},
   "outputs": [],
   "source": [
    "chi_square_power = GofChisquarePower()\n",
    "group_size = math.ceil(chi_square_power.solve_power(effect_size=0.5,alpha=0.05,power=0.8))\n",
    "\n",
    "print(\"Group size:\", group_size)\n",
    "print(\"Total # of applicants needed:\", group_size * 2)"
   ]
  },
  {
   "cell_type": "code",
   "execution_count": null,
   "id": "4b678992",
   "metadata": {},
   "outputs": [],
   "source": [
    "# Aggregate no-quiz applicants by sign-up date\n",
    "result = mscfe_app.aggregate(\n",
    "    [\n",
    "        {\"$match\":{\"admissionsQuiz\": \"incomplete\"}},\n",
    "        {\n",
    "          \"$group\": {\n",
    "              \"_id\": {\"$dateTrunc\":{\"date\":\"$createdAt\", \"unit\": \"day\"}},\n",
    "              \"count\":{\"$sum\":1}\n",
    "          }  \n",
    "        }\n",
    "    ]\n",
    ")\n",
    "\n",
    "# Load result into DataFrame\n",
    "no_quiz_mscfe = (\n",
    "    pd.DataFrame(result)\n",
    "    .rename({\"_id\":\"date\",\"count\":\"new_users\"},axis=1)\n",
    "    .set_index(\"date\")\n",
    "    .sort_index()\n",
    "    .squeeze())\n",
    "\n",
    "print(\"no_quiz type:\", type(no_quiz_mscfe))\n",
    "print(\"no_quiz shape:\", no_quiz_mscfe.shape)\n",
    "no_quiz_mscfe.head()"
   ]
  },
  {
   "cell_type": "code",
   "execution_count": null,
   "id": "9d093792",
   "metadata": {},
   "outputs": [],
   "source": [
    "mean = no_quiz_mscfe.describe()[\"mean\"]\n",
    "std = no_quiz_mscfe.describe()[\"std\"]\n",
    "print(\"no_quiz mean:\", mean)\n",
    "print(\"no_quiz std:\", std)"
   ]
  },
  {
   "cell_type": "code",
   "execution_count": null,
   "id": "7816058d",
   "metadata": {},
   "outputs": [],
   "source": [
    "n_observations = np.arange(0,group_size * 2 + 1)\n",
    "effect_sizes = np.array([0.2,0.5,0.8])\n",
    "\n",
    "# Plot power curve using `chi_square_power`\n",
    "chi_square_power.plot_power(\n",
    "    dep_var=\"nobs\",\n",
    "    nobs = n_observations,\n",
    "    effect_size = effect_sizes,\n",
    "    alpha = 0.05,\n",
    "    n_bins=5\n",
    ");"
   ]
  },
  {
   "cell_type": "code",
   "execution_count": null,
   "id": "4b1038e7",
   "metadata": {},
   "outputs": [],
   "source": [
    "exp_days = 7\n",
    "sum_mean = mean * exp_days\n",
    "sum_std = std * np.sqrt(exp_days)\n",
    "print(\"Mean of sum:\", sum_mean)\n",
    "print(\"Std of sum:\", sum_std)"
   ]
  },
  {
   "cell_type": "code",
   "execution_count": null,
   "id": "b7893696",
   "metadata": {},
   "outputs": [],
   "source": [
    "prob_65_or_fewer = scipy.stats.norm.cdf(\n",
    "    group_size*2,\n",
    "    loc = sum_mean,\n",
    "    scale = sum_std\n",
    ")\n",
    "prob_65_or_greater = 1-(prob_65_or_fewer)\n",
    "\n",
    "print(\n",
    "    f\"Probability of getting 65+ no_quiz in {exp_days} days:\",\n",
    "    round(prob_65_or_greater, 3),\n",
    ")"
   ]
  },
  {
   "cell_type": "code",
   "execution_count": null,
   "id": "af8737ea",
   "metadata": {},
   "outputs": [],
   "source": [
    "exp = Experiment(repo=client, db=\"wqu-abtest\", collection=\"mscfe-applicants\")\n",
    "exp.reset_experiment()\n",
    "result = exp.run_experiment(days=exp_days, assignment=True)\n",
    "print(\"result type:\", type(result))\n",
    "result"
   ]
  },
  {
   "cell_type": "markdown",
   "id": "73e6dc4e",
   "metadata": {},
   "source": [
    "# Analyse Result"
   ]
  },
  {
   "cell_type": "code",
   "execution_count": null,
   "id": "4d0492be",
   "metadata": {},
   "outputs": [],
   "source": [
    "result = repo.find_exp_observations()\n",
    "df = pd.DataFrame(result).dropna()\n",
    "\n",
    "print(\"df type:\", type(df))\n",
    "print(\"df shape:\", df.shape)\n",
    "df.head()"
   ]
  },
  {
   "cell_type": "code",
   "execution_count": null,
   "id": "8085cd43",
   "metadata": {},
   "outputs": [],
   "source": [
    "data = pd.crosstab(\n",
    "    index=df[\"group\"],\n",
    "    columns=df[\"admissionsQuiz\"],\n",
    "    normalize = False\n",
    ")\n",
    "\n",
    "print(\"data type:\", type(data))\n",
    "print(\"data shape:\", data.shape)\n",
    "data"
   ]
  },
  {
   "cell_type": "code",
   "execution_count": null,
   "id": "4442eef9",
   "metadata": {},
   "outputs": [],
   "source": [
    "# Create `build_contingency_bar` function\n",
    "def build_contingency_bar():\n",
    "    fig = px.bar(\n",
    "        data,\n",
    "        barmode=\"group\",\n",
    "        title= \"MScFE: Admissions Quiz Completion by Group\"\n",
    "    )\n",
    "    fig.update_layout(xaxis_title=\"Group\",yaxis_title=\"Frequency [count]\")\n",
    "    return fig\n",
    "# Don't delete the code below 👇\n",
    "cb_fig = build_contingency_bar()\n",
    "cb_fig.write_image(\"images/7-5-16.png\", scale=1, height=500, width=700)\n",
    "\n",
    "cb_fig.show()"
   ]
  },
  {
   "cell_type": "code",
   "execution_count": null,
   "id": "432c78c8",
   "metadata": {},
   "outputs": [],
   "source": [
    "contingency_table = Table2x2(data.values)\n",
    "\n",
    "print(\"contingency_table type:\", type(contingency_table))\n",
    "contingency_table.table_orig"
   ]
  },
  {
   "cell_type": "code",
   "execution_count": null,
   "id": "9db6359d",
   "metadata": {},
   "outputs": [],
   "source": [
    "chi_square_test = contingency_table.test_nominal_association()\n",
    "\n",
    "print(\"chi_square_test type:\", type(chi_square_test))\n",
    "print(chi_square_test)"
   ]
  },
  {
   "cell_type": "code",
   "execution_count": null,
   "id": "8d24b85e",
   "metadata": {},
   "outputs": [],
   "source": [
    "odds_ratio = contingency_table.oddsratio.round(1)\n",
    "print(\"Odds ratio:\", odds_ratio)"
   ]
  }
 ],
 "metadata": {
  "kernelspec": {
   "display_name": "Python 3 (ipykernel)",
   "language": "python",
   "name": "python3"
  },
  "language_info": {
   "codemirror_mode": {
    "name": "ipython",
    "version": 3
   },
   "file_extension": ".py",
   "mimetype": "text/x-python",
   "name": "python",
   "nbconvert_exporter": "python",
   "pygments_lexer": "ipython3",
   "version": "3.10.9"
  }
 },
 "nbformat": 4,
 "nbformat_minor": 5
}
