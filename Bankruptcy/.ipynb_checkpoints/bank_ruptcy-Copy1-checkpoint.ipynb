{
 "cells": [
  {
   "cell_type": "code",
   "execution_count": null,
   "id": "40945d50",
   "metadata": {},
   "outputs": [],
   "source": [
    "# Import libraries here\n",
    "import gzip\n",
    "import json\n",
    "import pickle\n",
    "\n",
    "import ipywidgets as widgets\n",
    "import pandas as pd\n",
    "import matplotlib.pyplot as plt\n",
    "\n",
    "from imblearn.over_sampling import RandomOverSampler\n",
    "from ipywidgets import interact\n",
    "from sklearn.ensemble import RandomForestClassifier\n",
    "from sklearn.metrics import (\n",
    "    ConfusionMatrixDisplay,\n",
    "    classification_report,\n",
    "    confusion_matrix,\n",
    ")\n",
    "from sklearn.model_selection import train_test_split,cross_val_score,GridSearchCV\n"
   ]
  },
  {
   "cell_type": "code",
   "execution_count": null,
   "id": "b1bf7386",
   "metadata": {},
   "outputs": [],
   "source": [
    "df = pd.read_csv(\"data.csv\")\n",
    "df.head()"
   ]
  },
  {
   "cell_type": "code",
   "execution_count": null,
   "id": "cfdf0696",
   "metadata": {},
   "outputs": [],
   "source": [
    "print(\"df shape:\", df.shape)\n"
   ]
  },
  {
   "cell_type": "code",
   "execution_count": null,
   "id": "158e1206",
   "metadata": {},
   "outputs": [],
   "source": [
    "nans_by_col = df.isna().sum()\n",
    "print(\"nans_by_col shape:\", nans_by_col.shape)\n",
    "nans_by_col.head()"
   ]
  },
  {
   "cell_type": "code",
   "execution_count": null,
   "id": "b80a5da5",
   "metadata": {},
   "outputs": [],
   "source": [
    "# Plot class balance\n",
    "df[\"Bankrupt?\"].value_counts(normalize=True).plot(kind=\"bar\")\n",
    "plt.xlabel(\"Bankrupt\")\n",
    "plt.ylabel(\"Frequency\")\n",
    "plt.title(\"Class Balance\")"
   ]
  },
  {
   "cell_type": "code",
   "execution_count": null,
   "id": "62165d92",
   "metadata": {},
   "outputs": [],
   "source": [
    "target = \"Bankrupt?\"\n",
    "X = df.drop(columns=target)\n",
    "y = df[target]\n",
    "print(\"X shape:\", X.shape)\n",
    "print(\"y shape:\", y.shape)"
   ]
  },
  {
   "cell_type": "code",
   "execution_count": null,
   "id": "31a706a5",
   "metadata": {},
   "outputs": [],
   "source": [
    "X_train, X_test, y_train, y_test = train_test_split(X,y,test_size=0.2,random_state=42)\n",
    "print(\"X_train shape:\", X_train.shape)\n",
    "print(\"y_train shape:\", y_train.shape)\n",
    "print(\"X_test shape:\", X_test.shape)\n",
    "print(\"y_test shape:\", y_test.shape)"
   ]
  },
  {
   "cell_type": "raw",
   "id": "0d59f3f7",
   "metadata": {},
   "source": [
    "Imbalanced-Learn is a Python module that helps in balancing the datasets which are highly skewed or biased towards some classes. Random Over Sampler: It is a naive method where classes that have low examples are generated and randomly resampled."
   ]
  },
  {
   "cell_type": "code",
   "execution_count": null,
   "id": "ed45c339",
   "metadata": {},
   "outputs": [],
   "source": [
    "\n",
    "over_sampler = RandomOverSampler(random_state=42)\n",
    "X_train_over, y_train_over = over_sampler.fit_resample(X_train,y_train)\n",
    "print(\"X_train_over shape:\", X_train_over.shape)\n",
    "X_train_over.head()"
   ]
  },
  {
   "cell_type": "code",
   "execution_count": null,
   "id": "0266ee24",
   "metadata": {},
   "outputs": [],
   "source": [
    "clf = RandomForestClassifier(random_state=42)\n",
    "clf.fit(X_train_over, y_train_over)"
   ]
  },
  {
   "cell_type": "code",
   "execution_count": null,
   "id": "51063f92",
   "metadata": {},
   "outputs": [],
   "source": [
    "params = {\n",
    "    \"n_estimators\":range(1,50,5),\n",
    "    \"max_depth\":(2,5)\n",
    "}"
   ]
  },
  {
   "cell_type": "code",
   "execution_count": null,
   "id": "d002894e",
   "metadata": {},
   "outputs": [],
   "source": [
    "model = GridSearchCV(clf,param_grid=params,cv=5,n_jobs=-1,verbose=1)\n",
    "model.fit(X_train_over, y_train_over)"
   ]
  },
  {
   "cell_type": "code",
   "execution_count": null,
   "id": "4ae5daa2",
   "metadata": {},
   "outputs": [],
   "source": [
    "cv_scores = cross_val_score(clf,X_train_over, y_train_over,cv=5,n_jobs=-1)\n",
    "print(cv_scores)"
   ]
  },
  {
   "cell_type": "code",
   "execution_count": null,
   "id": "ce36c7fb",
   "metadata": {},
   "outputs": [],
   "source": [
    "cv_results = pd.DataFrame(model.cv_results_)\n",
    "cv_results.head(5)"
   ]
  },
  {
   "cell_type": "code",
   "execution_count": null,
   "id": "9523d4ca",
   "metadata": {},
   "outputs": [],
   "source": [
    "best_params = model.best_params_\n",
    "print(best_params)"
   ]
  },
  {
   "cell_type": "code",
   "execution_count": null,
   "id": "c6bfab14",
   "metadata": {},
   "outputs": [],
   "source": [
    "acc_train = model.score(X_train,y_train)\n",
    "acc_test = model.score(X_test,y_test)\n",
    "\n",
    "print(\"Model Training Accuracy:\", round(acc_train, 4))\n",
    "print(\"Model Test Accuracy:\", round(acc_test, 4))"
   ]
  },
  {
   "cell_type": "code",
   "execution_count": null,
   "id": "d2cb7869",
   "metadata": {},
   "outputs": [],
   "source": [
    "ConfusionMatrixDisplay.from_estimator(model,X_test,y_test)"
   ]
  },
  {
   "cell_type": "code",
   "execution_count": null,
   "id": "0da7dc63",
   "metadata": {},
   "outputs": [],
   "source": [
    "class_report = classification_report(y_test, model.predict(X_test))\n",
    "print(class_report)"
   ]
  },
  {
   "cell_type": "code",
   "execution_count": null,
   "id": "bb944eb9",
   "metadata": {},
   "outputs": [],
   "source": [
    "importance = model.best_estimator_\n",
    "importance"
   ]
  },
  {
   "cell_type": "code",
   "execution_count": null,
   "id": "120d5fc8",
   "metadata": {},
   "outputs": [],
   "source": [
    "features = X_train.columns\n",
    "importances = model.best_estimator_.feature_importances_\n",
    "feature_importance = pd.Series(importances,index=features).sort_values()\n",
    "feature_importance.tail(10).plot(kind=\"barh\")"
   ]
  },
  {
   "cell_type": "code",
   "execution_count": null,
   "id": "7a4a3664",
   "metadata": {},
   "outputs": [],
   "source": [
    "importances = model.best_estimator_.feature_importances_\n",
    "importances"
   ]
  },
  {
   "cell_type": "code",
   "execution_count": null,
   "id": "5acce3f2",
   "metadata": {},
   "outputs": [],
   "source": [
    "# Add make_predictions function from lesson 5.3\n",
    "def make_predictions(data_filepath, model_filepath):\n",
    "    # Wrangle JSON file\n",
    "    X_test = wrangle(data_filepath)\n",
    "    # Load model\n",
    "    with open(model_filepath,\"rb\") as f:\n",
    "        model = pickle.load(f)\n",
    "    # Generate predictions\n",
    "    y_test_pred = model.predict(X_test)\n",
    "    # Put predictions into Series with name \"bankrupt\", and same index as X_test\n",
    "    y_test_pred = pd.Series(y_test_pred,index=X_test.index,name=\"bankrupt\")\n",
    "    return y_test_pred"
   ]
  },
  {
   "cell_type": "code",
   "execution_count": null,
   "id": "957f520f",
   "metadata": {},
   "outputs": [],
   "source": [
    "# Import your module\n",
    "from my_predictor_assignment import make_predictions\n",
    "\n",
    "# Generate predictions\n",
    "y_test_pred = make_predictions(\n",
    "    data_filepath=\"data/taiwan-bankruptcy-data-test-features.json.gz\",\n",
    "    model_filepath=\"model-5-5.pkl\",\n",
    ")\n",
    "\n",
    "print(\"predictions shape:\", y_test_pred.shape)\n",
    "y_test_pred.head()"
   ]
  },
  {
   "cell_type": "code",
   "execution_count": null,
   "id": "9c34264a",
   "metadata": {},
   "outputs": [],
   "source": []
  }
 ],
 "metadata": {
  "kernelspec": {
   "display_name": "Python 3",
   "language": "python",
   "name": "python3"
  },
  "language_info": {
   "codemirror_mode": {
    "name": "ipython",
    "version": 3
   },
   "file_extension": ".py",
   "mimetype": "text/x-python",
   "name": "python",
   "nbconvert_exporter": "python",
   "pygments_lexer": "ipython3",
   "version": "3.8.8"
  }
 },
 "nbformat": 4,
 "nbformat_minor": 5
}
