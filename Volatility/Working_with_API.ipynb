{
 "cells": [
  {
   "cell_type": "markdown",
   "id": "0bccd678",
   "metadata": {},
   "source": [
    "# Write a function for data retrival form API"
   ]
  },
  {
   "cell_type": "code",
   "execution_count": 1,
   "id": "5fb9ce65",
   "metadata": {},
   "outputs": [
    {
     "ename": "ModuleNotFoundError",
     "evalue": "No module named 'arch'",
     "output_type": "error",
     "traceback": [
      "\u001b[1;31m---------------------------------------------------------------------------\u001b[0m",
      "\u001b[1;31mModuleNotFoundError\u001b[0m                       Traceback (most recent call last)",
      "\u001b[1;32m<ipython-input-1-7ee32942005f>\u001b[0m in \u001b[0;36m<module>\u001b[1;34m\u001b[0m\n\u001b[0;32m     12\u001b[0m \u001b[1;32mfrom\u001b[0m \u001b[0mglob\u001b[0m \u001b[1;32mimport\u001b[0m \u001b[0mglob\u001b[0m\u001b[1;33m\u001b[0m\u001b[1;33m\u001b[0m\u001b[0m\n\u001b[0;32m     13\u001b[0m \u001b[1;32mimport\u001b[0m \u001b[0mjoblib\u001b[0m\u001b[1;33m\u001b[0m\u001b[1;33m\u001b[0m\u001b[0m\n\u001b[1;32m---> 14\u001b[1;33m \u001b[1;32mfrom\u001b[0m \u001b[0march\u001b[0m\u001b[1;33m.\u001b[0m\u001b[0munivariate\u001b[0m\u001b[1;33m.\u001b[0m\u001b[0mbase\u001b[0m \u001b[1;32mimport\u001b[0m \u001b[0mARCHModelResult\u001b[0m\u001b[1;33m\u001b[0m\u001b[1;33m\u001b[0m\u001b[0m\n\u001b[0m\u001b[0;32m     15\u001b[0m \u001b[1;32mfrom\u001b[0m \u001b[0mconfig\u001b[0m \u001b[1;32mimport\u001b[0m \u001b[0msettings\u001b[0m\u001b[1;33m\u001b[0m\u001b[1;33m\u001b[0m\u001b[0m\n\u001b[0;32m     16\u001b[0m \u001b[1;32mfrom\u001b[0m \u001b[0mdata\u001b[0m \u001b[1;32mimport\u001b[0m \u001b[0mSQLRepository\u001b[0m\u001b[1;33m\u001b[0m\u001b[1;33m\u001b[0m\u001b[0m\n",
      "\u001b[1;31mModuleNotFoundError\u001b[0m: No module named 'arch'"
     ]
    }
   ],
   "source": [
    "%load_ext autoreload\n",
    "%load_ext sql\n",
    "%autoreload 2\n",
    "\n",
    "import sqlite3\n",
    "\n",
    "import matplotlib.pyplot as plt\n",
    "import pandas as pd\n",
    "import requests\n",
    "# Import your libraries here\n",
    "import os\n",
    "from glob import glob\n",
    "import joblib\n",
    "from arch.univariate.base import ARCHModelResult\n",
    "from config import settings\n",
    "from data import SQLRepository\n",
    "from config import settings"
   ]
  },
  {
   "cell_type": "code",
   "execution_count": 2,
   "id": "7b510a8c",
   "metadata": {},
   "outputs": [
    {
     "data": {
      "text/plain": [
       "'bed66634865643bd2e290f6162ba4b4990bca09f4bc2ef639eebef153ae9942cf2737b2342657cb0083cc67ae16ef37bd6d1b8e6c1c67fe234551b1cb9f8bc776a27fcb20dfa8dcc416e6e188eb2cc157a05c7f11ad778444d62c9a0312a8f8f2664bcca76f3aac097f039c2440c15e135ded8c697264c427d352b7feab29898'"
      ]
     },
     "execution_count": 2,
     "metadata": {},
     "output_type": "execute_result"
    }
   ],
   "source": [
    "# Use `dir` to list attributes\n",
    "settings.alpha_api_key"
   ]
  },
  {
   "cell_type": "code",
   "execution_count": 3,
   "id": "65e50082",
   "metadata": {},
   "outputs": [],
   "source": [
    "def get_daily(ticker,output_size=\"full\"):\n",
    "\n",
    "    \"\"\"Get daily time series of an equity from AlphaVantage API.\n",
    "\n",
    "    Parameters\n",
    "    ----------\n",
    "    ticker : str\n",
    "        The ticker symbol of the equity.\n",
    "    output_size : str, optional\n",
    "        Number of observations to retrieve. \"compact\" returns the\n",
    "        latest 100 observations. \"full\" returns all observations for\n",
    "        equity. By default \"full\".\n",
    "\n",
    "    Returns\n",
    "    -------\n",
    "    pd.DataFrame\n",
    "        Columns are 'open', 'high', 'low', 'close', and 'volume'.\n",
    "        All are numeric.\n",
    "    \"\"\"\n",
    "    # Create URL \n",
    "    url = (\n",
    "       \"https://learn-api.wqu.edu/1/data-services/alpha-vantage/query?\"\n",
    "       \"function=TIME_SERIES_DAILY&\"\n",
    "        f\"symbol={ticker}&\"\n",
    "        f\"outputsize={output_size}&\"\n",
    "        \"datatype=json&\"\n",
    "        f\"apikey={settings.alpha_api_key}\"\n",
    "    );\n",
    "\n",
    "    # Send request to API \n",
    "    response = requests.get(url=url)\n",
    "\n",
    "    # Extract JSON data from response \n",
    "    response_data = response.json()\n",
    "    \n",
    "    if \"Time Series (Daily)\" not in response_data.keys():\n",
    "        raise Exception(\n",
    "        f\"Invalid API call. check the ticker symbol '{ticker}' is correct\"\n",
    "        )\n",
    "        \n",
    "    # Read data into DataFrame \n",
    "    stock_data = response_data[\"Time Series (Daily)\"]\n",
    "    df = pd.DataFrame.from_dict(stock_data,orient=\"index\",dtype=float)\n",
    "\n",
    "    # Convert index to `DatetimeIndex` named \"date\" \n",
    "    df.index =pd.to_datetime(df.index)\n",
    "\n",
    "    # Name index \"date\"\n",
    "    df.index.name = \"date\"\n",
    "\n",
    "    # Remove numbering from columns \n",
    "    df.columns = [c.split(\". \")[1] for c in df.columns]\n",
    "\n",
    "    # Return DataFrame\n",
    "    return df"
   ]
  },
  {
   "cell_type": "code",
   "execution_count": 4,
   "id": "1891b798",
   "metadata": {},
   "outputs": [
    {
     "name": "stdout",
     "output_type": "stream",
     "text": [
      "<class 'pandas.core.frame.DataFrame'>\n",
      "DatetimeIndex: 4480 entries, 2023-03-06 to 2005-01-03\n",
      "Data columns (total 5 columns):\n",
      " #   Column  Non-Null Count  Dtype  \n",
      "---  ------  --------------  -----  \n",
      " 0   open    4480 non-null   float64\n",
      " 1   high    4480 non-null   float64\n",
      " 2   low     4480 non-null   float64\n",
      " 3   close   4480 non-null   float64\n",
      " 4   volume  4480 non-null   float64\n",
      "dtypes: float64(5)\n",
      "memory usage: 210.0 KB\n",
      "None\n"
     ]
    },
    {
     "data": {
      "text/html": [
       "<div>\n",
       "<style scoped>\n",
       "    .dataframe tbody tr th:only-of-type {\n",
       "        vertical-align: middle;\n",
       "    }\n",
       "\n",
       "    .dataframe tbody tr th {\n",
       "        vertical-align: top;\n",
       "    }\n",
       "\n",
       "    .dataframe thead th {\n",
       "        text-align: right;\n",
       "    }\n",
       "</style>\n",
       "<table border=\"1\" class=\"dataframe\">\n",
       "  <thead>\n",
       "    <tr style=\"text-align: right;\">\n",
       "      <th></th>\n",
       "      <th>open</th>\n",
       "      <th>high</th>\n",
       "      <th>low</th>\n",
       "      <th>close</th>\n",
       "      <th>volume</th>\n",
       "    </tr>\n",
       "    <tr>\n",
       "      <th>date</th>\n",
       "      <th></th>\n",
       "      <th></th>\n",
       "      <th></th>\n",
       "      <th></th>\n",
       "      <th></th>\n",
       "    </tr>\n",
       "  </thead>\n",
       "  <tbody>\n",
       "    <tr>\n",
       "      <th>2023-03-06</th>\n",
       "      <td>396.00</td>\n",
       "      <td>404.95</td>\n",
       "      <td>381.30</td>\n",
       "      <td>385.55</td>\n",
       "      <td>2447811.0</td>\n",
       "    </tr>\n",
       "    <tr>\n",
       "      <th>2023-03-03</th>\n",
       "      <td>379.55</td>\n",
       "      <td>399.25</td>\n",
       "      <td>375.75</td>\n",
       "      <td>392.00</td>\n",
       "      <td>2829990.0</td>\n",
       "    </tr>\n",
       "    <tr>\n",
       "      <th>2023-03-02</th>\n",
       "      <td>354.40</td>\n",
       "      <td>372.10</td>\n",
       "      <td>347.25</td>\n",
       "      <td>370.85</td>\n",
       "      <td>1082223.0</td>\n",
       "    </tr>\n",
       "    <tr>\n",
       "      <th>2023-03-01</th>\n",
       "      <td>343.40</td>\n",
       "      <td>354.75</td>\n",
       "      <td>343.40</td>\n",
       "      <td>353.40</td>\n",
       "      <td>785471.0</td>\n",
       "    </tr>\n",
       "    <tr>\n",
       "      <th>2023-02-28</th>\n",
       "      <td>329.50</td>\n",
       "      <td>353.35</td>\n",
       "      <td>324.30</td>\n",
       "      <td>342.05</td>\n",
       "      <td>1146096.0</td>\n",
       "    </tr>\n",
       "  </tbody>\n",
       "</table>\n",
       "</div>"
      ],
      "text/plain": [
       "              open    high     low   close     volume\n",
       "date                                                 \n",
       "2023-03-06  396.00  404.95  381.30  385.55  2447811.0\n",
       "2023-03-03  379.55  399.25  375.75  392.00  2829990.0\n",
       "2023-03-02  354.40  372.10  347.25  370.85  1082223.0\n",
       "2023-03-01  343.40  354.75  343.40  353.40   785471.0\n",
       "2023-02-28  329.50  353.35  324.30  342.05  1146096.0"
      ]
     },
     "execution_count": 4,
     "metadata": {},
     "output_type": "execute_result"
    }
   ],
   "source": [
    "# Test your function\n",
    "df_ambuja = get_daily(ticker=\"AMBUJACEM.BSE\")\n",
    "\n",
    "print(df_ambuja.info())\n",
    "df_ambuja.head()"
   ]
  },
  {
   "cell_type": "code",
   "execution_count": 5,
   "id": "d0030c8c",
   "metadata": {},
   "outputs": [],
   "source": [
    "# Import `AlphaVantageAPI`\n",
    "from data import AlphaVantageAPI\n",
    "\n",
    "# Create instance of `AlphaVantageAPI` class\n",
    "av = AlphaVantageAPI()"
   ]
  },
  {
   "cell_type": "code",
   "execution_count": 6,
   "id": "25cbd1b8",
   "metadata": {},
   "outputs": [],
   "source": [
    "# Define Suzlon ticker symbol\n",
    "ticker = \"SUZLON.BSE\"\n",
    "\n",
    "# Use your `av` object to get daily data\n",
    "df_suzlon = av.get_daily(ticker=ticker)"
   ]
  },
  {
   "cell_type": "code",
   "execution_count": 7,
   "id": "b94a9afa",
   "metadata": {},
   "outputs": [
    {
     "name": "stdout",
     "output_type": "stream",
     "text": [
      "connection type: <class 'sqlite3.Connection'>\n"
     ]
    }
   ],
   "source": [
    "connection = sqlite3.connect(database=settings.db_name,check_same_thread=False)\n",
    "\n",
    "print(\"connection type:\", type(connection))"
   ]
  },
  {
   "cell_type": "code",
   "execution_count": 8,
   "id": "d8168297",
   "metadata": {},
   "outputs": [],
   "source": [
    "# Import class definition\n",
    "from data import SQLRepository\n",
    "\n",
    "# Create instance of class\n",
    "repo = SQLRepository(connection=connection)\n"
   ]
  },
  {
   "cell_type": "code",
   "execution_count": 17,
   "id": "3710afa4",
   "metadata": {},
   "outputs": [
    {
     "data": {
      "text/plain": [
       "{'transaction_successful': True, 'records_inserted': None}"
      ]
     },
     "execution_count": 17,
     "metadata": {},
     "output_type": "execute_result"
    }
   ],
   "source": [
    "response = repo.insert_table(table_name=ticker, records=df_suzlon, if_exists=\"replace\")\n",
    "response"
   ]
  },
  {
   "cell_type": "code",
   "execution_count": 19,
   "id": "751df881",
   "metadata": {},
   "outputs": [],
   "source": [
    "# Import class definition\n",
    "from data import SQLRepository\n",
    "\n",
    "# Create instance of class\n",
    "repo = SQLRepository(connection=connection)\n",
    "\n",
    "# Does `repo` have a \"connection\" attribute?\n",
    "assert  hasattr(repo,\"connection\")\n",
    "\n",
    "# Is the \"connection\" attribute a SQLite `Connection`?\n",
    "assert isinstance(repo.connection,sqlite3.Connection)"
   ]
  },
  {
   "cell_type": "code",
   "execution_count": 20,
   "id": "ea67c2dc",
   "metadata": {},
   "outputs": [],
   "source": [
    "response = repo.insert_table(table_name=ticker, records=df_suzlon, if_exists=\"replace\")\n",
    "\n",
    "# Does your method return a dictionary?\n",
    "assert isinstance(response, dict)\n",
    "\n",
    "# Are the keys of that dictionary correct?\n",
    "assert sorted(list(response.keys())) == [\"records_inserted\", \"transaction_successful\"]"
   ]
  },
  {
   "cell_type": "code",
   "execution_count": null,
   "id": "d1a38d1c",
   "metadata": {},
   "outputs": [],
   "source": []
  }
 ],
 "metadata": {
  "kernelspec": {
   "display_name": "Python 3",
   "language": "python",
   "name": "python3"
  },
  "language_info": {
   "codemirror_mode": {
    "name": "ipython",
    "version": 3
   },
   "file_extension": ".py",
   "mimetype": "text/x-python",
   "name": "python",
   "nbconvert_exporter": "python",
   "pygments_lexer": "ipython3",
   "version": "3.8.8"
  }
 },
 "nbformat": 4,
 "nbformat_minor": 5
}
