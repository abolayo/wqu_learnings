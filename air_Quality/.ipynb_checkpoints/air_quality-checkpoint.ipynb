{
 "cells": [
  {
   "cell_type": "code",
   "execution_count": 3,
   "id": "487e5093",
   "metadata": {},
   "outputs": [],
   "source": [
    "import inspect\n",
    "import time\n",
    "import warnings\n",
    "\n",
    "import matplotlib.pyplot as plt\n",
    "import pandas as pd\n",
    "#import plotly.express as px\n",
    "import seaborn as sns\n",
    "from IPython.display import VimeoVideo\n",
    "#from pymongo import MongoClient\n",
    "from sklearn.metrics import mean_absolute_error\n",
    "from statsmodels.graphics.tsaplots import plot_acf, plot_pacf\n",
    "from statsmodels.tsa.ar_model import AutoReg\n",
    "\n",
    "warnings.filterwarnings(\"ignore\")"
   ]
  },
  {
   "cell_type": "code",
   "execution_count": null,
   "id": "b99d99b4",
   "metadata": {},
   "outputs": [],
   "source": [
    "client = MongoClient(host=\"localhost\",port=27017)\n",
    "db = client[\"air-quality\"]\n",
    "dar = db[\"dar-es-salaam\"]"
   ]
  },
  {
   "cell_type": "code",
   "execution_count": null,
   "id": "b38529be",
   "metadata": {},
   "outputs": [],
   "source": [
    "sites = dar.distinct(\"metadata.site\")\n",
    "sites"
   ]
  },
  {
   "cell_type": "code",
   "execution_count": null,
   "id": "5cc45bbb",
   "metadata": {},
   "outputs": [],
   "source": [
    "result = dar.find({\"metadata.site\":11,\"metadat.measurement\":\"P2\"},\n",
    "                 projection={\"P2\":1,\"timestamp\":1,\"_id\":0}\n",
    "                 )\n",
    "readings_per_site =  list(dar.aggregate(\n",
    "    [\n",
    "        {\"$group\": {\"_id\": \"$metadata.site\", \"count\": {\"$count\": {}}}}\n",
    "    ]\n",
    "))\n",
    "readings_per_site"
   ]
  },
  {
   "cell_type": "code",
   "execution_count": null,
   "id": "efcacb5d",
   "metadata": {},
   "outputs": [],
   "source": [
    "result = dar.find_one({})\n",
    "result"
   ]
  },
  {
   "cell_type": "code",
   "execution_count": null,
   "id": "0543807d",
   "metadata": {},
   "outputs": [],
   "source": [
    "def wrangle(collection):\n",
    "    result = collection.find({\"metadata.site\":11,\"metadata.measurement\":\"P2\"},\n",
    "                 projection={\"P2\":1,\"timestamp\":1,\"_id\":0}\n",
    "                 )\n",
    "    \n",
    "    #convert to dataframe\n",
    "    df = pd.DataFrame(result).set_index(\"timestamp\")\n",
    "    \n",
    "    #Localize reading time stamps to the timezone for \"Africa/Dar_es_Salaam\"\n",
    "    df.index = df.index.tz_localize(\"UTC\").tz_convert(\"Africa/Dar_es_Salaam\")\n",
    "    \n",
    "    #Remove all outlier PM2.5 readings that are above 100\n",
    "    df = df[df[\"P2\"]<100]\n",
    "    \n",
    "    #Resample the data to provide the mean PM2.5 reading for each hour.\n",
    "    y = df[\"P2\"].resample(\"1H\").mean().fillna(method=\"ffill\")\n",
    "    \n",
    "    return y"
   ]
  },
  {
   "cell_type": "code",
   "execution_count": null,
   "id": "87ffcc02",
   "metadata": {},
   "outputs": [],
   "source": [
    "y.isna().sum()\n",
    "y = wrangle(dar)\n",
    "y.head()"
   ]
  },
  {
   "cell_type": "code",
   "execution_count": null,
   "id": "9912ebb0",
   "metadata": {},
   "outputs": [],
   "source": [
    "fig, ax = plt.subplots(figsize=(15, 6))\n",
    "y.plot(ax=ax)\n",
    "plt.xlabel(\"Date\")\n",
    "plt.ylabel(\"PM2.5 Level\")\n",
    "plt.title(\"Dar es Salaam PM2.5 Levels\")\n",
    "# Don't delete the code below 👇\n",
    "plt.savefig(\"images/3-5-5.png\", dpi=150)"
   ]
  },
  {
   "cell_type": "code",
   "execution_count": null,
   "id": "46b1e0b0",
   "metadata": {},
   "outputs": [],
   "source": [
    "fig, ax = plt.subplots(figsize=(15, 6))\n",
    "y.rolling(168).mean().plot(ax=ax)\n",
    "plt.xlabel(\"Date\")\n",
    "plt.ylabel(\"PM2.5 Level\")\n",
    "plt.title(\"Dar es Salaam PM2.5 Levels, 7-Day Rolling Average\")\n"
   ]
  },
  {
   "cell_type": "code",
   "execution_count": null,
   "id": "9a25c184",
   "metadata": {},
   "outputs": [],
   "source": [
    "fig, ax = plt.subplots(figsize=(15, 6))\n",
    "plot_acf(y,ax=ax)\n",
    "plt.xlabel(\"Lag [hours]\")\n",
    "plt.ylabel(\"Correlation Coefficient\")\n",
    "plt.title(\"Dar es Salaam PM2.5 Readings\")\n"
   ]
  },
  {
   "cell_type": "code",
   "execution_count": null,
   "id": "058ab35f",
   "metadata": {},
   "outputs": [],
   "source": [
    "fig, ax = plt.subplots(figsize=(15, 6))\n",
    "plot_pacf(y,ax=ax)\n",
    "plt.xlabel(\"Lag [hours]\")\n",
    "plt.ylabel(\"Correlation Coefficient\")\n",
    "plt.title(\"Dar es Salaam PM2.5 Readings PACF\")\n",
    "\n"
   ]
  },
  {
   "cell_type": "code",
   "execution_count": null,
   "id": "d102914e",
   "metadata": {},
   "outputs": [],
   "source": [
    "cutoff_test = int(len(y)*0.9)\n",
    "y_train = y.iloc[:cutoff_test]\n",
    "y_test = y.iloc[cutoff_test:]\n",
    "print(\"y_train shape:\", y_train.shape)\n",
    "print(\"y_test shape:\", y_test.shape)"
   ]
  },
  {
   "cell_type": "code",
   "execution_count": null,
   "id": "2ce88788",
   "metadata": {},
   "outputs": [],
   "source": [
    "y_train_mean = y_train.mean()\n",
    "y_pred_baseline = [y_train_mean]*len(y_train)\n",
    "mae_baseline = mean_absolute_error(y_train,y_pred_baseline)\n",
    "\n",
    "print(\"Mean P2 Reading:\", y_train_mean)\n",
    "print(\"Baseline MAE:\", mae_baseline)"
   ]
  },
  {
   "cell_type": "code",
   "execution_count": null,
   "id": "8698dcf4",
   "metadata": {},
   "outputs": [],
   "source": [
    "p_params = range(1, 31 )\n",
    "maes = []\n",
    "for p in p_params:\n",
    "    model = AutoReg(y_train.copy(),lags=p).fit()\n",
    "    y_pred = model.predict().dropna()\n",
    "    mean_error = mean_absolute_error(y_train.loc[y_pred.index],y_pred)\n",
    "    maes.append(mean_error)\n",
    "mae_series = pd.Series(maes, name=\"mae\", index=p_params)\n",
    "mae_series.head()"
   ]
  },
  {
   "cell_type": "code",
   "execution_count": null,
   "id": "2b307a15",
   "metadata": {},
   "outputs": [],
   "source": [
    "#AR autoregressive\n",
    "p_params = range(1, 31)\n",
    "maes = []\n",
    "for p in p_params:\n",
    "order = (1,0,p)\n",
    "# Note start time\n",
    "start_time = time.time()\n",
    "# Train model\n",
    "model = AutoReg(y_train, lags=p, old_names=True).fit()\n",
    "# Calculate model training time\n",
    "elapsed_time = round(time.time() - start_time, 2)\n",
    "print(f\"Trained AutoReg {order} in {elapsed_time} seconds.\")\n",
    "# Generate in-sample (training) predictions\n",
    "y_pred = model.predict().dropna()\n",
    "# Calculate training MAE\n",
    "mae = mean_absolute_error(y_train.loc[y_pred.index], y_pred)\n",
    "# Append MAE to list in dictionary\n",
    "maes.append(mae)\n",
    "\n",
    "mae_series = pd.Series(maes, name=\"mae\", index=p_params)\n",
    "mae_series.head()"
   ]
  },
  {
   "cell_type": "code",
   "execution_count": null,
   "id": "9d0c17e2",
   "metadata": {},
   "outputs": [],
   "source": [
    "mea_df = pd.DataFrame(maes)\n",
    "sns.heatmap(mae_df,cmap=\"Blues\")"
   ]
  },
  {
   "cell_type": "code",
   "execution_count": null,
   "id": "0268d739",
   "metadata": {},
   "outputs": [],
   "source": [
    "best_p = 28\n",
    "best_model = AutoReg(y_train, lags=best_p).fit()"
   ]
  },
  {
   "cell_type": "code",
   "execution_count": null,
   "id": "c196b2e0",
   "metadata": {},
   "outputs": [],
   "source": [
    "y_train_resid = model.resid\n",
    "y_train_resid.name = \"residuals\"\n",
    "y_train_resid.head()"
   ]
  },
  {
   "cell_type": "code",
   "execution_count": null,
   "id": "9f1957cc",
   "metadata": {},
   "outputs": [],
   "source": [
    "# Plot histogram of residuals\n",
    "y_train_resid.hist()\n",
    "plt.xlabel(\"Residuals\")\n",
    "plt.ylabel(\"Frequency\")\n",
    "plt.title(\"Best Model, Training Residuals\")"
   ]
  },
  {
   "cell_type": "code",
   "execution_count": null,
   "id": "9d87da19",
   "metadata": {},
   "outputs": [],
   "source": [
    "fig, ax = plt.subplots(figsize=(15, 6))\n",
    "plot_acf(y_train_resid, ax=ax)\n",
    "plt.xlabel(\"Lag [hours]\")\n",
    "plt.ylabel(\"Correlation Coefficient\")\n",
    "plt.title(\"Dar es Salaam, Training Residuals ACF\")"
   ]
  },
  {
   "cell_type": "code",
   "execution_count": null,
   "id": "6d90b8c5",
   "metadata": {},
   "outputs": [],
   "source": [
    "y_pred_wfv = pd.Series()\n",
    "history = y_train.copy()\n",
    "for i in range(len(y_test)):\n",
    "    model = AutoReg(history,lags=28).fit()\n",
    "    next_pred = model.forecast()\n",
    "    y_pred_wfv = y_pred_wfv.append(next_pred)\n",
    "    history = history.append(y_test[next_pred.index])\n",
    "y_pred_wfv.name = \"prediction\"\n",
    "y_pred_wfv.index.name = \"timestamp\"\n",
    "y_pred_wfv.head()"
   ]
  },
  {
   "cell_type": "code",
   "execution_count": null,
   "id": "f04a0af1",
   "metadata": {},
   "outputs": [],
   "source": [
    "df_pred_test = pd.DataFrame({\"y_test\":y_test,\"y_pred_wfv\": y_pred_wfv})\n",
    "fig = px.line(df_pred_test)\n",
    "fig.update_layout(\n",
    "    title=\"Dar es Salaam, WFV Predictions\",\n",
    "    xaxis_title=\"Date\",\n",
    "    yaxis_title=\"PM2.5 Level\",\n",
    ")\n",
    "# Don't delete the code below 👇\n",
    "fig.write_image(\"images/3-5-18.png\", scale=1, height=500, width=700)\n",
    "\n",
    "fig.show()"
   ]
  },
  {
   "cell_type": "code",
   "execution_count": null,
   "id": "84b56f14",
   "metadata": {},
   "outputs": [],
   "source": [
    "df_pred_test.head()"
   ]
  }
 ],
 "metadata": {
  "kernelspec": {
   "display_name": "Python 3",
   "language": "python",
   "name": "python3"
  },
  "language_info": {
   "codemirror_mode": {
    "name": "ipython",
    "version": 3
   },
   "file_extension": ".py",
   "mimetype": "text/x-python",
   "name": "python",
   "nbconvert_exporter": "python",
   "pygments_lexer": "ipython3",
   "version": "3.8.8"
  }
 },
 "nbformat": 4,
 "nbformat_minor": 5
}
